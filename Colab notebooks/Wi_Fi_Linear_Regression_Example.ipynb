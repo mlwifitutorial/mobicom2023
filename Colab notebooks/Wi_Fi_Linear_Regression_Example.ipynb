{
  "cells": [
    {
      "cell_type": "markdown",
      "metadata": {
        "id": "6GxPzuLeNxuW"
      },
      "source": [
        "# Predicting Wi-Fi Throughput and Delay Using a Linear Regression Model\n",
        "\n",
        "\n",
        "From 10,000 simulations of a single-cell Wi-Fi network, we have a dataset which maps network configurations (number of stations, offered load, contention window values, etc.) to network performance metrics (throughput, delay). We will use this dataset to train a linear regression model and then use this model to predict network performance.\n",
        "\n",
        "Steps:\n",
        "\n",
        "1. Load the dataset\n",
        "2. Observe correlation between input variables\n",
        "3. Train (fit) the model\n",
        "4. Predict and evaluate the results"
      ]
    },
    {
      "cell_type": "markdown",
      "source": [
        "Initial configuration and library import:"
      ],
      "metadata": {
        "id": "9q3If-bxAAmk"
      }
    },
    {
      "cell_type": "code",
      "execution_count": null,
      "metadata": {
        "deletable": true,
        "editable": true,
        "tags": [],
        "id": "4ZOcTabeNxuZ"
      },
      "outputs": [],
      "source": [
        "%matplotlib inline\n",
        "import matplotlib.pyplot as plt\n",
        "import numpy as np\n",
        "import seaborn as sb\n",
        "import pandas as pd\n",
        "from sklearn import preprocessing\n",
        "from google.colab import files"
      ]
    },
    {
      "cell_type": "markdown",
      "source": [
        "## 1. Loading the dataset\n",
        "\n",
        "The dataset is available as a CSV file with the following columns:\n",
        "\n",
        "- Inputs\n",
        "  - `station_no` - number of stations in the network,\n",
        "  - `x` and `y` - the sides of the area of the network [m],\n",
        "  - `area` - the area of the network: $x \\times y$ [m^2],\n",
        "  - `load` - per-station load [Mb/s],\n",
        "  - `cw` - the minimum contention window value [slots] (the maximum is always 1023),\n",
        "  - `channel` - the channel width [MHz],\n",
        "  - `pkt_size` - packet size [b],\n",
        "- Outputs  \n",
        "  - `max_snr`, `avg_snr`, `min_snr` - maximum, average, and minimum observed SNR [dBm],\n",
        "  - `p_fail` - fraction of failed transmissions (i.e., not correctly received), either because a transmission error or a collision (transmission error probability is fixed at 0.1),\n",
        "  - `throughput` - aggregate network throughput [b/s],\n",
        "  - `avg_del` - average time required to transmit a (head of line) packet [s],\n",
        "  - `total_airtime` - sum of transmission time required for all transmissions,\n",
        "  - `proportional_airtime` - airtime used for successful transmissions (does not account for time spent in collisions or retransmissions)."
      ],
      "metadata": {
        "id": "pDJffBYMeTCm"
      }
    },
    {
      "cell_type": "markdown",
      "source": [
        "Load, parse, and print dataset:"
      ],
      "metadata": {
        "id": "0qEYvkTuPOP1"
      }
    },
    {
      "cell_type": "code",
      "execution_count": null,
      "metadata": {
        "deletable": true,
        "editable": true,
        "jupyter": {
          "outputs_hidden": false
        },
        "id": "Dbocrc8cNxuq",
        "colab": {
          "base_uri": "https://localhost:8080/"
        },
        "outputId": "589bc4c7-38a1-42a6-942e-92c5770fb842"
      },
      "outputs": [
        {
          "output_type": "stream",
          "name": "stdout",
          "text": [
            "Data set (first five rows):\n",
            "   station_no       load     x     y   area     cw  channel  pkt_size  \\\n",
            "0        21.0  5250000.0  22.0  39.0  858.0   63.0     80.0    4000.0   \n",
            "1         7.0  1750000.0  23.0  25.0  575.0  511.0    160.0    6000.0   \n",
            "2        13.0  3250000.0   4.0  24.0   96.0    7.0     40.0   12000.0   \n",
            "3         9.0  2250000.0  25.0  18.0  450.0    7.0    160.0    8000.0   \n",
            "4        11.0  2750000.0  31.0  31.0  961.0   63.0     20.0   12000.0   \n",
            "\n",
            "     max_snr    avg_snr    min_snr    p_fail   throughput   avg_del  \\\n",
            "0 -42.928330 -63.360578 -74.965338  0.176645  5249995.023  0.002946   \n",
            "1 -58.124635 -60.061144 -61.387044  0.103061  1749999.978  0.003899   \n",
            "2 -42.650904 -51.205925 -63.162513  0.130817  3249999.721  0.000726   \n",
            "3 -54.870343 -58.795338 -65.139086  0.127697  2249999.841  0.000648   \n",
            "4 -52.336210 -66.339800 -76.562695  0.107643  2749999.950  0.001515   \n",
            "\n",
            "   total_airtime  proportional_airtime  \n",
            "0       0.731502              0.638437  \n",
            "1       0.154115              0.138542  \n",
            "2       0.161346              0.143646  \n",
            "3       0.150610              0.134094  \n",
            "4       0.200564              0.180187  \n",
            "0       0.002946\n",
            "1       0.003899\n",
            "2       0.000726\n",
            "3       0.000648\n",
            "4       0.001515\n",
            "          ...   \n",
            "9995    0.001294\n",
            "9996    0.002047\n",
            "9997    0.001728\n",
            "9998    0.001387\n",
            "9999    0.000671\n",
            "Name: avg_del, Length: 9968, dtype: float64\n"
          ]
        }
      ],
      "source": [
        "url='https://drive.google.com/file/d/1ZwXZwbhpN1Z0Llzr6sq5WN87TgiNJQP-/view?usp=sharing'\n",
        "file_id=url.split('/')[-2]\n",
        "dwn_url='https://drive.google.com/uc?id=' + file_id\n",
        "data_set_all = pd.read_csv(dwn_url, sep=',', names=['station_no','load','x','y','area','cw','channel',\n",
        "                                                    'pkt_size','max_snr','avg_snr','min_snr','p_fail',\n",
        "                                                    'throughput','avg_del','total_airtime','proportional_airtime'] )\n",
        "\n",
        "# Drop any rows with null values\n",
        "data_set_all.dropna(axis=0, how='any', inplace=True)\n",
        "\n",
        "print('Data set (first five rows):')\n",
        "print(data_set_all.head())"
      ]
    },
    {
      "cell_type": "markdown",
      "source": [
        "## 2. Data correlation\n",
        "\n",
        "Which input parameters impact output metrics such as throughput and delay? We check the correlation using a heatmap."
      ],
      "metadata": {
        "id": "xs663V9JdWxd"
      }
    },
    {
      "cell_type": "code",
      "source": [
        "column_names = ['station_no','load','x','y','area','cw','channel','pkt_size',\n",
        "                'max_snr','avg_snr','min_snr', 'throughput', 'avg_del']\n",
        "dataplot = sb.heatmap(data_set_all[column_names].corr(), cmap=\"Reds\", annot=False)\n",
        "plt.show()"
      ],
      "metadata": {
        "id": "AhGXXUPPdkJP"
      },
      "execution_count": null,
      "outputs": []
    },
    {
      "cell_type": "markdown",
      "source": [
        "## 3. Model fitting"
      ],
      "metadata": {
        "id": "cLlqg9cLddM0"
      }
    },
    {
      "cell_type": "markdown",
      "metadata": {
        "deletable": true,
        "editable": true,
        "id": "BuBd4eE0Nxuv"
      },
      "source": [
        "We choose which columns to use and then fit a linear regression model to our data."
      ]
    },
    {
      "cell_type": "code",
      "execution_count": null,
      "metadata": {
        "deletable": true,
        "editable": true,
        "jupyter": {
          "outputs_hidden": false
        },
        "id": "nS7v5f55Nxuv"
      },
      "outputs": [],
      "source": [
        "# Uncomment one of the following lines depending on required analysis\n",
        "# For including all features:\n",
        "\n",
        "#column_names = ['station_no','load','x','y','area','cw','channel','pkt_size',\n",
        "#                'max_snr','avg_snr','min_snr']\n",
        "\n",
        "# For analysing throughput:\n",
        "column_names = ['station_no','load','max_snr']\n",
        "\n",
        "# For analysing delay:\n",
        "#column_names = ['station_no','load','cw']\n",
        "\n",
        "X = data_set_all[column_names]\n",
        "\n",
        "# Select throughput or delay:\n",
        "y = data_set_all['throughput']\n",
        "#y = data_set_all['avg_del']\n",
        "\n",
        "# Load function for data splitting\n",
        "from sklearn.model_selection import train_test_split\n",
        "\n",
        "# Split the data set\n",
        "trainX, testX, trainY, testY = train_test_split(X,y, test_size = 0.3)\n",
        "\n",
        "# Regression analysis starts here\n",
        "from sklearn.linear_model import LinearRegression\n",
        "\n",
        "# Simple regression model:\n",
        "#  y = c + b*x,\n",
        "# where\n",
        "#   y is the outcome,\n",
        "#   x is the predictor,\n",
        "#   b is the slope of the line (regression coefficient),\n",
        "#   c is the intercept.\n",
        "\n",
        "model = LinearRegression()\n",
        "model.fit(trainX, trainY)\n",
        "\n",
        "# Check the model parameters\n",
        "\n",
        "print(f\"b = {model.coef_}, c = {model.intercept_}\")\n"
      ]
    },
    {
      "cell_type": "markdown",
      "source": [
        "## 4. Data prediction"
      ],
      "metadata": {
        "id": "tLtE4E3mdvc-"
      }
    },
    {
      "cell_type": "code",
      "source": [
        "# Generate predictions from the trained model\n",
        "pred=model.predict(testX)\n",
        "\n",
        "# Calculate MSE, RMSE\n",
        "from sklearn.metrics import mean_squared_error\n",
        "print('MSE =', mean_squared_error(testY,pred))\n",
        "print('RMSE =', np.sqrt(mean_squared_error(testY,pred)))"
      ],
      "metadata": {
        "id": "edlg_BJEdyde"
      },
      "execution_count": null,
      "outputs": []
    },
    {
      "cell_type": "markdown",
      "metadata": {
        "deletable": true,
        "editable": true,
        "id": "zb_4O0BQNxuw"
      },
      "source": [
        "Plot true and predicted values (for the first 100 values)\n"
      ]
    },
    {
      "cell_type": "code",
      "execution_count": null,
      "metadata": {
        "deletable": true,
        "editable": true,
        "jupyter": {
          "outputs_hidden": false
        },
        "id": "rxt0-lLvNxuw"
      },
      "outputs": [],
      "source": [
        "results = pd.DataFrame()\n",
        "results['testY']=testY\n",
        "results['pred']=pred\n",
        "\n",
        "results['testY'][1:100].plot(alpha=0.5, color = 'red', marker='o', linestyle='None', label='Actual');\n",
        "results['pred'][1:100].plot(alpha=0.5, color = 'blue', marker='x', linestyle='None', label='Predicted');\n",
        "plt.legend()\n",
        "plt.xlabel('Configuration ID')\n",
        "plt.ylabel('Throughput [b/s]')\n",
        "#plt.ylabel('Delay [s]')\n",
        "plt.show()"
      ]
    }
  ],
  "metadata": {
    "anaconda-cloud": {},
    "jupytext": {
      "formats": "ipynb,md"
    },
    "kernelspec": {
      "display_name": "Python 3.9.6 64-bit ('3.9.6')",
      "language": "python",
      "name": "python3"
    },
    "language_info": {
      "codemirror_mode": {
        "name": "ipython",
        "version": 3
      },
      "file_extension": ".py",
      "mimetype": "text/x-python",
      "name": "python",
      "nbconvert_exporter": "python",
      "pygments_lexer": "ipython3",
      "version": "3.9.6"
    },
    "vscode": {
      "interpreter": {
        "hash": "513788764cd0ec0f97313d5418a13e1ea666d16d72f976a8acadce25a5af2ffc"
      }
    },
    "colab": {
      "provenance": []
    }
  },
  "nbformat": 4,
  "nbformat_minor": 0
}